import pandas as pd
import re
import numpy as np
import seaborn as sns; sns.set_theme()
import matplotlib.pyplot as plt

with open('/content/datos2.txt') as f:
    lines = f.readlines()
lines = lines [2:]
for i in range(len(lines)):
  lines[i] = (lines[i]).split(' ')
  lines[i][2] = lines[i][2][:-1]

prendas = []
inc = []

def isPrenda(x):
  if(x[0] == 'n'):
    return True
  return False  

for x in lines:
    (inc, prendas)[isPrenda(x)].append(x)

df = pd.DataFrame(prendas, columns = ['n', 'prenda', 'tiempo'])
df['inc'] = np.empty((len(df), 0)).tolist()
df = df[['prenda', 'tiempo','inc']]

for x in inc:
  df.loc[int(x[1])-1]['inc'].append(x[2])
df2 = df[['prenda','tiempo']]
df2['lavado'] = 0
df = df[['prenda','inc']]
df = df.explode('inc')

df3 = df
df = df.dropna()
df = df.reset_index()
df = df[['prenda','inc']]

for i in range(len(df)):
  df3 = df3.append({'prenda' : df.loc[i]['inc'],
                    'inc' : df.loc[i]['prenda']} , 
                    ignore_index=True)

df3 = df3.groupby(['prenda', 'inc']).sum()
df3 = df3.reset_index()
df3 = df3.groupby('prenda')['inc'].apply(list).reset_index(name='inc')
df3 = pd.merge(df3, df2)
df3['tiempo'] = df3['tiempo'].astype(int)
df3 = df3.sort_values(by=['tiempo'], ascending=False)
df3 = df3.reset_index()
lista = [[] for x in range(len(df3))]

for i in range(len(df3)):
  for j in range(len(df3)):
    if(not bool(set(df3.loc[i]['inc']) & set(lista[j]))):
      lista[j].append(df3.loc[i]['prenda']) 
      break


lista2 = [x for x in lista if x != []]
lista2
lavado = 1
with open('resultado2.txt', 'w') as f2:
  for x in lista2:
    for y in range(len(x)):
      f2.write(str(x[y])+" "+str(lavado)+"\n")
    lavado = lavado + 1

f.close()
f2.close()
